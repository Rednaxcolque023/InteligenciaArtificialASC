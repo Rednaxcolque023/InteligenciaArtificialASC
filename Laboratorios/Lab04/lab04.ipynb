{
  "cells": [
    {
      "cell_type": "code",
      "execution_count": 11,
      "metadata": {
        "id": "NubVLav6zAjw"
      },
      "outputs": [],
      "source": [
        "\"\"\" \n",
        "Univesitario:   Sacaca Colque Alexander\n",
        "Repositorio : https://github.com/Rednaxcolque023/InteligenciaArtificialASC/tree/main/Laboratorios\n",
        "\"\"\"\n",
        "# datos = estado\n",
        "class Nodo:\n",
        "    #Contructor\n",
        "    def __init__(self, datos, hijo=None):\n",
        "        self.datos = datos\n",
        "        self.hijos = []\n",
        "        self.padre = None\n",
        "        self.costo = None\n",
        "        self.set_hijo(hijo)\n",
        "    #\n",
        "    def set_hijo(self, hijo):\n",
        "        if (hijo is not None):\n",
        "            self.hijos.append(hijo)\n",
        "            if self.hijos is not None:\n",
        "                for h in self.hijos:\n",
        "                    h.padre = self\n",
        "                \n",
        "    def get_hijos(self):\n",
        "        return self.hijos\n",
        "    \n",
        "    def set_padre(self, padre):\n",
        "        self.padre = padre\n",
        "        \n",
        "    def get_padre(self):\n",
        "        return self.padre\n",
        "\n",
        "    def set_datos(self, datos):\n",
        "        self.datos = datos\n",
        "    \n",
        "    def get_datos(self):\n",
        "        return self.datos\n",
        "    \n",
        "    def set_costo(self, costo):\n",
        "        self.costo = costo\n",
        "        \n",
        "    def get_costo(self):\n",
        "        return self.costo\n",
        "    \n",
        "    def equal(self, nodo):\n",
        "        if self.get_datos() == nodo.get_datos():\n",
        "            return True\n",
        "        else:\n",
        "            return False\n",
        "    \n",
        "    def en_lista(self, lista_nodos):\n",
        "        enlistado = False\n",
        "        for n in lista_nodos:\n",
        "            if self.equal(n):\n",
        "                enlistado = True\n",
        "        return enlistado\n",
        "    \n",
        "    def __str__(self):\n",
        "        return str(self.get_datos())"
      ]
    },
    {
      "cell_type": "code",
      "execution_count": 15,
      "metadata": {
        "id": "AzlFCkDrzGcs"
      },
      "outputs": [],
      "source": [
        "def bpa2(estado_inicio, estado_solucion):\n",
        "    resuelto = False\n",
        "    nodos_visitados = []\n",
        "    nodos_frontera = []\n",
        "    nodo_inicio = Nodo(estado_inicio)\n",
        "    nodos_frontera.append(nodo_inicio)\n",
        "    \n",
        "    while resuelto == False and len(nodos_frontera) != 0:\n",
        "        nodo_actual = nodos_frontera.pop(0) #FIFO - cola\n",
        "        #nodo_actual = nodos_frontera.pop() #LIFO - pila\n",
        "        nodos_visitados.append(nodo_actual)\n",
        "\n",
        "        costo_ordenado = sorted(nodos_frontera, reverse=True, key= lambda x: x.get_costo())\n",
        "        for i in range(0, len(costo_ordenado)):\n",
        "            if costo_ordenado[i].get_datos() == solucion:\n",
        "                print(f' costo:  {costo_ordenado[i].get_costo(), costo_ordenado[i].get_datos()}')\n",
        "                break\n",
        "            #print(costo_ordenado[i].get_costo(), costo_ordenado[i].get_datos())\n",
        "\n",
        "        if nodo_actual.get_datos() == estado_solucion:\n",
        "            resuelto = True\n",
        "            return nodo_actual\n",
        "        else:\n",
        "            for indice in range(len(estado_solucion)-1, 0, -1):\n",
        "            #for indice in range(estado_solucion, 1): \n",
        "              #elemento = estado_solucion[i]\n",
        "              #indice = estado_inicio.index(elemento)\n",
        "              ##############\n",
        "              hijo_datos = nodo_actual.get_datos().copy()\n",
        "              temp = hijo_datos[indice-1]\n",
        "              hijo_datos[indice-1] = hijo_datos[indice]\n",
        "              hijo_datos[indice] = temp\n",
        "              hijo = Nodo(hijo_datos)\n",
        "                \n",
        "              if not hijo.en_lista(nodos_visitados) and not hijo.en_lista(nodos_frontera):\n",
        "                nodo_actual.set_hijo(hijo)\n",
        "                nodos_frontera.append(hijo)\n",
        "              if hijo.get_costo() == None:\n",
        "                    hijo.set_costo(random.randrange(1, 11)) #costo aleatorio entre 1 y 9\n"
      ]
    },
    {
      "cell_type": "code",
      "execution_count": 16,
      "metadata": {
        "colab": {
          "base_uri": "https://localhost:8080/"
        },
        "id": "J8VGi_YlzG5y",
        "outputId": "dc1c8356-7987-4bf1-de17-fead49c55d81"
      },
      "outputs": [
        {
          "name": "stdout",
          "output_type": "stream",
          "text": [
            " costo:  (7, [1, 2, 3, 4, 5, 6, 7])\n",
            " costo:  (7, [1, 2, 3, 4, 5, 6, 7])\n",
            " costo:  (7, [1, 2, 3, 4, 5, 6, 7])\n",
            " costo:  (7, [1, 2, 3, 4, 5, 6, 7])\n",
            " costo:  (7, [1, 2, 3, 4, 5, 6, 7])\n",
            "**************************************************\n",
            "Movimientos : \n",
            "\n",
            "[7, 6, 5, 4, 3, 2, 1]\n",
            "[7, 6, 5, 4, 3, 1, 2]\n",
            "[7, 6, 5, 4, 1, 3, 2]\n",
            "[7, 6, 5, 4, 1, 2, 3]\n",
            "[7, 6, 5, 1, 4, 2, 3]\n",
            "[7, 6, 5, 1, 2, 4, 3]\n",
            "[7, 6, 5, 1, 2, 3, 4]\n",
            "[7, 6, 1, 5, 2, 3, 4]\n",
            "[7, 6, 1, 2, 5, 3, 4]\n",
            "[7, 6, 1, 2, 3, 5, 4]\n",
            "[7, 6, 1, 2, 3, 4, 5]\n",
            "[7, 1, 6, 2, 3, 4, 5]\n",
            "[7, 1, 2, 6, 3, 4, 5]\n",
            "[7, 1, 2, 3, 6, 4, 5]\n",
            "[7, 1, 2, 3, 4, 6, 5]\n",
            "[7, 1, 2, 3, 4, 5, 6]\n",
            "[1, 7, 2, 3, 4, 5, 6]\n",
            "[1, 2, 7, 3, 4, 5, 6]\n",
            "[1, 2, 3, 7, 4, 5, 6]\n",
            "[1, 2, 3, 4, 7, 5, 6]\n",
            "[1, 2, 3, 4, 5, 7, 6]\n",
            "[1, 2, 3, 4, 5, 6, 7]\n"
          ]
        }
      ],
      "source": [
        "import time\n",
        "import random\n",
        "if __name__ == \"__main__\":\n",
        "    estado_inicial = [7, 6, 5, 4, 3, 2, 1]\n",
        "    solucion = [1, 2, 3, 4, 5, 6, 7]\n",
        "    \n",
        "    #start = time.time()\n",
        "    nodo_solucion = bpa2(estado_inicial, solucion)\n",
        "    #end =time.time()\n",
        "    #print('Tiempo de ejecucion : ',end-start, 'seg.','\\n')\n",
        "    # mostrar resultado\n",
        "    resultado = []\n",
        "    nodo_actual = nodo_solucion\n",
        "    while nodo_actual.get_padre() is not None:\n",
        "        resultado.append(nodo_actual.get_datos())\n",
        "        nodo_actual = nodo_actual.get_padre()\n",
        "\n",
        "    resultado.append(estado_inicial)\n",
        "    resultado.reverse()\n",
        "    \n",
        "    print(\"*****\"*10)\n",
        "    #print('\\n',resultado)\n",
        "    print('Movimientos : \\n')\n",
        "    for i in range(len(resultado)):\n",
        "      print(resultado[i])"
      ]
    },
    {
      "cell_type": "code",
      "execution_count": null,
      "metadata": {
        "id": "eJ2vAWrgzMXS"
      },
      "outputs": [],
      "source": []
    }
  ],
  "metadata": {
    "colab": {
      "provenance": []
    },
    "kernelspec": {
      "display_name": "Python 3",
      "name": "python3"
    },
    "language_info": {
      "name": "python"
    }
  },
  "nbformat": 4,
  "nbformat_minor": 0
}
