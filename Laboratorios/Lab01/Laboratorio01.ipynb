{
 "cells": [
  {
   "cell_type": "code",
   "execution_count": 4,
   "id": "2d1c7fde",
   "metadata": {},
   "outputs": [],
   "source": [
    "import random"
   ]
  },
  {
   "cell_type": "code",
   "execution_count": 5,
   "id": "aa7f2b33",
   "metadata": {},
   "outputs": [],
   "source": [
    "def crear_mapa_laberinto(numero_filas, numero_columnas, numero_paredes, numero_espacios):\n",
    "# Se crea un mapa lleno de paredes\n",
    "    mapa_laberinto = []\n",
    "    numero_paredes_generadas = 0\n",
    "    for fila in range(0, numero_filas):\n",
    "        fila_mapa_laberinto = []\n",
    "        for columna in range(0, numero_columnas):\n",
    "            fila_mapa_laberinto.append('#')\n",
    "        mapa_laberinto.append(fila_mapa_laberinto)\n",
    "        \n",
    "#Se ubica aleatoriamente un punto de inicio y a partir de ese punto se llenan espacios\n",
    "    numero_espacios_generados = 0\n",
    "    fila_posicion_actual = random.randrange(numero_filas)\n",
    "    columna_posicion_actual = random.randrange(numero_columnas)\n",
    "    mapa_laberinto[fila_posicion_actual][columna_posicion_actual] = ' '\n",
    "    numero_espacios_generados += 1\n",
    "\n",
    "#Se ubica una ficha de manera aleatoria\n",
    "    ficha_fila = random.randrange(numero_filas)\n",
    "    ficha_columnas = random.randrange(numero_columnas)\n",
    "    mapa_laberinto[fila_posicion_actual][columna_posicion_actual] = 'C'\n",
    "\n",
    "    while numero_espacios_generados < numero_espacios:\n",
    "        direccion = random.randrange(4)\n",
    "        if direccion == 0 and fila_posicion_actual > 0:\n",
    "            fila_posicion_actual -= 1\n",
    "        elif direccion == 1 and fila_posicion_actual < numero_filas - 1:\n",
    "            fila_posicion_actual += 1\n",
    "        elif direccion == 2 and columna_posicion_actual > 0:\n",
    "            columna_posicion_actual -= 1\n",
    "        else:\n",
    "            if columna_posicion_actual < numero_columnas - 1:\n",
    "                columna_posicion_actual += 1\n",
    "            \n",
    "        if mapa_laberinto[fila_posicion_actual][columna_posicion_actual] == '#':\n",
    "            mapa_laberinto[fila_posicion_actual][columna_posicion_actual] = ' '\n",
    "            numero_espacios_generados += 1\n",
    "            \n",
    "    return mapa_laberinto"
   ]
  },
  {
   "cell_type": "code",
   "execution_count": 3,
   "id": "ae331f8e",
   "metadata": {},
   "outputs": [
    {
     "name": "stdout",
     "output_type": "stream",
     "text": [
      "Introduzca el número de filas del laberinto: 7\n",
      "Introduzca el número de columnas del laberinto: 8\n",
      "Introduzca el número de paredes del laberinto: 20\n",
      "[' ', '#', '#', '#', '#', '#', ' ', ' ']\n",
      "[' ', '#', '#', '#', '#', ' ', ' ', ' ']\n",
      "[' ', ' ', '#', '#', '#', ' ', ' ', ' ']\n",
      "['#', ' ', '#', '#', '#', ' ', ' ', '#']\n",
      "['#', ' ', ' ', ' ', ' ', ' ', ' ', ' ']\n",
      "['#', ' ', ' ', ' ', ' ', ' ', 'W', ' ']\n",
      "['#', ' ', ' ', ' ', ' ', ' ', ' ', ' ']\n"
     ]
    }
   ],
   "source": [
    "numero_filas = int(input('Introduzca el número de filas del laberinto: '))\n",
    "numero_columnas = int(input('Introduzca el número de columnas del laberinto: '))\n",
    "numero_paredes = int(input('Introduzca el número de paredes del laberinto: '))\n",
    "numero_espacios = numero_filas * numero_columnas - numero_paredes\n",
    "\n",
    "laberinto = crear_mapa_laberinto(numero_filas, numero_columnas, numero_paredes, numero_espacios)\n",
    "\n",
    "for fila_mapa_laberinto in laberinto:\n",
    "    print(fila_mapa_laberinto)"
   ]
  },
  {
   "cell_type": "code",
   "execution_count": null,
   "id": "25f7b84e",
   "metadata": {},
   "outputs": [],
   "source": []
  }
 ],
 "metadata": {
  "kernelspec": {
   "display_name": "Python 3 (ipykernel)",
   "language": "python",
   "name": "python3"
  },
  "language_info": {
   "codemirror_mode": {
    "name": "ipython",
    "version": 3
   },
   "file_extension": ".py",
   "mimetype": "text/x-python",
   "name": "python",
   "nbconvert_exporter": "python",
   "pygments_lexer": "ipython3",
   "version": "3.9.12"
  }
 },
 "nbformat": 4,
 "nbformat_minor": 5
}
