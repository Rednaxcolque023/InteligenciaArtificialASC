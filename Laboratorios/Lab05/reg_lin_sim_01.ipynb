{
  "cells": [
    {
      "cell_type": "markdown",
      "metadata": {
        "id": "E_iHItkbzyjH"
      },
      "source": [
        "# Ejercicio de programación Regresión Lineal"
      ]
    },
    {
      "cell_type": "code",
      "source": [
        "#nombre :Alexander Sacaca Colque\n",
        "#repositorio : https://github.com/Rednaxcolque023/InteligenciaArtificialASC/tree/main/Laboratorios"
      ],
      "metadata": {
        "id": "OdOJqrVjLWbh"
      },
      "execution_count": null,
      "outputs": []
    },
    {
      "cell_type": "code",
      "execution_count": 36,
      "metadata": {
        "id": "ZNy9Kg-0zyjN"
      },
      "outputs": [],
      "source": [
        "\n",
        "# utilizado para manejos de directorios y rutas\n",
        "import os\n",
        "\n",
        "# Computacion vectorial y cientifica para python\n",
        "import numpy as np\n",
        "\n",
        "# Librerias para graficación (trazado de gráficos)\n",
        "from matplotlib import pyplot\n",
        "from mpl_toolkits.mplot3d import Axes3D  # Necesario para graficar superficies 3D\n",
        "\n",
        "# llama a matplotlib a embeber graficas dentro de los cuadernillos\n",
        "%matplotlib inline"
      ]
    },
    {
      "cell_type": "markdown",
      "metadata": {
        "id": "Msntchw4zyjP"
      },
      "source": [
        "## 1 Regresión lineal con una variable\n",
        "\n",
        "El archivo `Data/ex1data1.txt` contiene el dataset para el problema de regresion lineal. La primera columna es la problacion de una ciudad (en 10,000s) y la segunda columna es el beneficio que genera un camion de comida en esa ciudad (en $10,000s). Un valor negativo indica una perdida. "
      ]
    },
    {
      "cell_type": "code",
      "execution_count": 37,
      "metadata": {
        "id": "7UcU6c6KzyjP"
      },
      "outputs": [],
      "source": [
        "# Leer datos separados por una coma\n",
        "data = np.loadtxt(os.path.join('Covid_Data.txt'), delimiter=',')\n",
        "X, y = data[:, :19], data[:, 19]\n",
        "\n",
        "m = y.size  # m = numero de ejemplos de entrenamiento"
      ]
    },
    {
      "cell_type": "markdown",
      "metadata": {
        "id": "N0dzLWV_zyjQ"
      },
      "source": [
        "### 1.1 Trazar los datos"
      ]
    },
    {
      "cell_type": "code",
      "execution_count": 38,
      "metadata": {
        "id": "KrAGuKpdzyjQ"
      },
      "outputs": [],
      "source": [
        "def plotData(x, y):\n",
        "    #Grafica los puntos x e y en una figura nueva. \n",
        "    \n",
        "    fig = pyplot.figure()  # abre una nueva figura\n",
        "    \n",
        "    pyplot.plot(x, y, 'ro', ms=10, mec='k')\n",
        "    pyplot.ylabel('Beneficio en $10,000')\n",
        "    pyplot.xlabel('Poblacion de una ciudad en 10,000s')\n"
      ]
    },
    {
      "cell_type": "code",
      "execution_count": 39,
      "metadata": {
        "colab": {
          "base_uri": "https://localhost:8080/",
          "height": 279
        },
        "id": "U6wifVDuzyjR",
        "outputId": "a14b268a-355d-4615-fced-de78a8fa2598"
      },
      "outputs": [
        {
          "output_type": "display_data",
          "data": {
            "text/plain": [
              "<Figure size 432x288 with 1 Axes>"
            ],
            "image/png": "[encoded data removed]"
          },
          "metadata": {
            "needs_background": "light"
          }
        }
      ],
      "source": [
        "plotData(X, y)"
      ]
    },
    {
      "cell_type": "code",
      "execution_count": 40,
      "metadata": {
        "id": "XJrqcr5WzyjS"
      },
      "outputs": [],
      "source": [
        "?pyplot.plot"
      ]
    },
    {
      "cell_type": "code",
      "source": [
        "def normalizar(X):\n",
        "  X_nomr= X.copy()\n",
        "  mu=np.zeros(X.shape[1])\n",
        "  sigma=np.zeros(X.shape[1])\n",
        "  \n",
        "  mu= np.mean(X, axis=0)\n",
        "  sigma=np.std(X, axis=0)\n",
        "  X_nomr=(X-mu)/sigma\n",
        "  return X_nomr, mu, sigma"
      ],
      "metadata": {
        "id": "GjZVJiTNEN16"
      },
      "execution_count": 41,
      "outputs": []
    },
    {
      "cell_type": "code",
      "source": [
        "X_norm, mu, sigma=normalizar(X)\n",
        "print(X)\n",
        "print('media: ', mu)\n",
        "print('desviacion: ', sigma)\n",
        "print(X_norm)"
      ],
      "metadata": {
        "colab": {
          "base_uri": "https://localhost:8080/"
        },
        "id": "UDypuVFUEw1N",
        "outputId": "fd986811-ef21-4dfd-9a82-ea6eb1ae106a"
      },
      "execution_count": 42,
      "outputs": [
        {
          "output_type": "stream",
          "name": "stdout",
          "text": [
            "[[2. 1. 1. ... 2. 2. 3.]\n",
            " [2. 1. 2. ... 1. 2. 5.]\n",
            " [2. 1. 2. ... 2. 2. 3.]\n",
            " ...\n",
            " [1. 3. 2. ... 2. 2. 3.]\n",
            " [1. 3. 1. ... 2. 2. 6.]\n",
            " [2. 3. 2. ... 2. 2. 6.]]\n",
            "media:  [ 1.522  2.529  1.567  1.701 33.543  3.333 53.418 55.96   1.988  2.156\n",
            "  2.177  2.347  1.97   2.822  2.326  2.026  2.315  2.312  4.632]\n",
            "desviacion:  [ 0.49951577  0.74240084  0.49549067  0.45781983 45.08975661 13.67516402\n",
            " 21.40292681 47.06070973  5.28657318  4.29460871  4.29134839  6.0647004\n",
            "  5.28820385  9.07250329  6.06759623  4.31246148  6.06908354  6.06948565\n",
            "  1.86884349]\n",
            "[[ 0.95692675 -2.05953432 -1.14432024 ... -0.0519024  -0.05140469\n",
            "  -0.87326735]\n",
            " [ 0.95692675 -2.05953432  0.87388124 ... -0.21667192 -0.05140469\n",
            "   0.19691323]\n",
            " [ 0.95692675 -2.05953432  0.87388124 ... -0.0519024  -0.05140469\n",
            "  -0.87326735]\n",
            " ...\n",
            " [-1.04501206  0.63442817  0.87388124 ... -0.0519024  -0.05140469\n",
            "  -0.87326735]\n",
            " [-1.04501206  0.63442817 -1.14432024 ... -0.0519024  -0.05140469\n",
            "   0.73200351]\n",
            " [ 0.95692675  0.63442817  0.87388124 ... -0.0519024  -0.05140469\n",
            "   0.73200351]]\n"
          ]
        }
      ]
    },
    {
      "cell_type": "code",
      "execution_count": 45,
      "metadata": {
        "colab": {
          "base_uri": "https://localhost:8080/"
        },
        "id": "9Gk71rhgzyjT",
        "outputId": "3d4a744b-d95c-4f5f-80b4-612ed6c47416"
      },
      "outputs": [
        {
          "output_type": "execute_result",
          "data": {
            "text/plain": [
              "(1000, 20)"
            ]
          },
          "metadata": {},
          "execution_count": 45
        }
      ],
      "source": [
        "# Agrega una columna de unos a X. La funcion stack de numpy une matrices a lo largo de un eje dado.\n",
        "# El primer eje (eje = 0) se refiere a filas (ejemplos de entrenamiento)\n",
        "# y el segundo eje (eje = 1) se refiere a columnas (características).\n",
        "\n",
        "X = np.concatenate([np.ones((m, 1)), X_norm], axis=1)\n",
        "X.shape"
      ]
    },
    {
      "cell_type": "markdown",
      "metadata": {
        "id": "ixENDRwOzyjT"
      },
      "source": [
        "# <a id=\"section2\"></a>\n",
        "### 1.2 Descenso por el gradiente\n",
        "\n",
        "#### 1.2.1 Ecuaciones de actualización\n",
        "\n",
        "El objetivo de la regresion lineal es minimizar la funcion de costo\n",
        "\n",
        "$$ J(\\theta) = \\frac{1}{2m} \\sum_{i=1}^m \\left( h_{\\theta}(x^{(i)}) - y^{(i)}\\right)^2$$\n",
        "\n",
        "donde la hipotesis $h_\\theta(x)$ esta dada por el modelo lineal\n",
        "$$ h_\\theta(x) = \\theta^Tx = \\theta_0 + \\theta_1 x_1$$\n",
        "\n",
        "Los parametros del modelo son los valores $\\theta_j$. Estos son los valores que se ajustaran al costo minimo $J(\\theta)$. Un camino para lograr esto es usar el algoritmo por lotes del descenso por el gradiente. En el descenso por el gradiente por lotes, cada iteracion ejecuta una actualizacion \n",
        "$$ \\theta_j = \\theta_j - \\alpha \\frac{1}{m} \\sum_{i=1}^m \\left( h_\\theta(x^{(i)}) - y^{(i)}\\right)x_j^{(i)} \\qquad \\text{actualizacion simultanea } \\theta_j \\text{ for all } j$$\n",
        "\n",
        "Con cada paso del descenso por el gradiente, los parametros $\\theta_j$ son mas cercanos a los valores optimos que permitiran lograr el costo mas bajo J($\\theta$).\n",
        "\n",
        "#### 1.2.2 Implementación"
      ]
    },
    {
      "cell_type": "markdown",
      "metadata": {
        "id": "wZ9MMElkzyjU"
      },
      "source": [
        "<a id=\"section2\"></a>\n",
        "#### 1.2.3 Cálculo del costo $J(\\theta)$"
      ]
    },
    {
      "cell_type": "code",
      "execution_count": 46,
      "metadata": {
        "id": "1CU-9hF7zyjU"
      },
      "outputs": [],
      "source": [
        "def computeCost(X, y, theta):\n",
        "    # inicializa algunos valores importantes\n",
        "    m = y.size  # numero de ejemplos de entrenamiento\n",
        "   \n",
        "    J = 0\n",
        "    h = np.dot(X, theta)\n",
        "    J = (1/(2 * m)) * np.sum(np.square(np.dot(X, theta) - y))\n",
        "    return J"
      ]
    },
    {
      "cell_type": "markdown",
      "metadata": {
        "id": "wwxyvcl8zyjW"
      },
      "source": [
        "<a id=\"section3\"></a>\n",
        "#### 1.2.4 Descenso por el gradiente\n",
        "\n",
        "El costo $J(\\theta)$ esta parametrizado por el vector $\\theta$, no $X$ y $y$. Donde hay que minimizar el valor de $J(\\theta)$ cambiando los valores del vector $\\theta$. Una buena manera de verificar si el descenso por el gradiente esta trabajando correctamente es ver los valores de $J(\\theta)$ y verificar si estos decresen en cada paso. \n",
        "\n",
        "<div class=\"alert alert-box alert-warning\">\n",
        "**Vectores y matrices en `numpy`** - Importantes notas para implementación\n",
        "Un vector en `numpy` es un array de una diemension, por ejemplo `np.array([1, 2, 3])` es un vector. Una matriz en `numpy` is un arreglo de dos dimensiones, por ejemplo  `np.array([[1, 2, 3], [4, 5, 6]])`. Sin embargo, lo siguiente todavía se considera una matriz `np.array ([[1, 2, 3]])` ya que tiene dos dimensiones, incluso si tiene una forma de 1x3 (que parece un vector)."
      ]
    },
    {
      "cell_type": "code",
      "execution_count": 49,
      "metadata": {
        "id": "Xpy4B8kKzyjW"
      },
      "outputs": [],
      "source": [
        "def gradientDescent(X, y, theta, alpha, num_iters):\n",
        "        # Inicializa algunos valores importantes\n",
        "    m = y.shape[0]  # numero de ejemplos de entrenamiento\n",
        "    \n",
        "    # hace una copia de theta, para evitar cambiar la matriz original, \n",
        "    # ya que las matrices numpy se pasan por referencia a las funciones\n",
        "\n",
        "    theta = theta.copy()\n",
        "    \n",
        "    J_history = [] # Lista que se utiliza para almacenar el costo en cada iteración\n",
        "    \n",
        "    for i in range(num_iters):\n",
        "        theta = theta - (alpha / m) * (np.dot(X, theta) - y).dot(X)\n",
        "        # save the cost J in every iteration\n",
        "        J_history.append(computeCost(X, y, theta))\n",
        "    \n",
        "    return theta, J_history"
      ]
    },
    {
      "cell_type": "markdown",
      "metadata": {
        "id": "1Z8D5m17zyjX"
      },
      "source": [
        "Se inicializan los parametros $\\theta$ con 0 y la taza de aprendizaje $\\alpha$ con 0.01."
      ]
    },
    {
      "cell_type": "code",
      "execution_count": 50,
      "metadata": {
        "colab": {
          "base_uri": "https://localhost:8080/"
        },
        "id": "Bhl17WvQzyjX",
        "outputId": "dcd364c5-8040-448a-906b-5eba2956662a"
      },
      "outputs": [
        {
          "output_type": "stream",
          "name": "stdout",
          "text": [
            "Theta encontrada por descenso gradiente: 33.6590, 0.1412\n",
            "Valores theta esperados (aproximadamente): [-3.6303, 1.1664]\n"
          ]
        }
      ],
      "source": [
        "# inicializa los parametros de ajuste\n",
        "theta = np.zeros(20)\n",
        "\n",
        "# configuraciones para el descenso por el gradiente\n",
        "iterations = 150000\n",
        "alpha = 0.003\n",
        "\n",
        "theta, J_history = gradientDescent(X ,y, theta, alpha, iterations)\n",
        "print('Theta encontrada por descenso gradiente: {:.4f}, {:.4f}'.format(*theta))\n",
        "print('Valores theta esperados (aproximadamente): [-3.6303, 1.1664]')"
      ]
    },
    {
      "cell_type": "markdown",
      "metadata": {
        "id": "V6pUj2vqzyjY"
      },
      "source": [
        "Se utilizan los parametros finales para grafical la linea."
      ]
    },
    {
      "cell_type": "code",
      "execution_count": 51,
      "metadata": {
        "colab": {
          "base_uri": "https://localhost:8080/",
          "height": 279
        },
        "id": "H0JSsjBizyjZ",
        "outputId": "c6f4bc38-8c96-4b00-df62-c53fad6f3364"
      },
      "outputs": [
        {
          "output_type": "display_data",
          "data": {
            "text/plain": [
              "<Figure size 432x288 with 1 Axes>"
            ],
            "image/png": "[encoded data removed]"
          },
          "metadata": {
            "needs_background": "light"
          }
        }
      ],
      "source": [
        "# grafica la linea de ajuste\n",
        "plotData(X[:, 1], y)\n",
        "pyplot.plot(X[:, 1], np.dot(X, theta), '-')\n",
        "pyplot.legend(['Datos de entrenamiento', 'Regresión linear']);"
      ]
    },
    {
      "cell_type": "markdown",
      "metadata": {
        "id": "cZb1Vokgzyja"
      },
      "source": [
        "Los valores finales de $\\theta$ se utilizaran para realizar predicciones."
      ]
    },
    {
      "cell_type": "code",
      "execution_count": 53,
      "metadata": {
        "colab": {
          "base_uri": "https://localhost:8080/"
        },
        "id": "Qde-7w4hzyja",
        "outputId": "6955f6ba-d997-41f6-b3bd-676532159205"
      },
      "outputs": [
        {
          "output_type": "stream",
          "name": "stdout",
          "text": [
            "Para una población = 35,000, se predice un beneficio de 43912822.17\n",
            "\n"
          ]
        }
      ],
      "source": [
        "# Predecir valores de beneficio para poblaciones de 35,000 y 70,000\n",
        "predict1 = np.dot([1, 2,1,1,1,97,2,23,2,2,2,2,2,2,2,2,2,2,2,3], theta)\n",
        "print('Para una población = 35,000, se predice un beneficio de {:.2f}\\n'.format(predict1*10000))\n",
        "\n",
        "#predict2 = np.dot([1, 9], theta)\n",
        "#print('Para una población de = 70,000, se predice un beneficio de {:.2f}\\n'.format(predict2*10000))"
      ]
    },
    {
      "cell_type": "code",
      "source": [],
      "metadata": {
        "id": "_nDYO9MSJspj"
      },
      "execution_count": null,
      "outputs": []
    }
  ],
  "metadata": {
    "kernelspec": {
      "display_name": "Python 3",
      "language": "python",
      "name": "python3"
    },
    "language_info": {
      "codemirror_mode": {
        "name": "ipython",
        "version": 3
      },
      "file_extension": ".py",
      "mimetype": "text/x-python",
      "name": "python",
      "nbconvert_exporter": "python",
      "pygments_lexer": "ipython3",
      "version": "3.7.6"
    },
    "colab": {
      "provenance": []
    }
  },
  "nbformat": 4,
  "nbformat_minor": 0
}